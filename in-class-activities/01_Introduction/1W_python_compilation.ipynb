{
  "nbformat": 4,
  "nbformat_minor": 2,
  "metadata": {
    "colab": {
      "name": "1W_python_compilation",
      "provenance": [],
      "collapsed_sections": [],
      "authorship_tag": "ABX9TyOdThdtia2sCzmQY/OdsUf1",
      "include_colab_link": true
    },
    "kernelspec": {
      "name": "python3",
      "display_name": "Python 3.9.6 64-bit ('base': conda)"
    },
    "language_info": {
      "name": "python",
      "version": "3.9.6",
      "mimetype": "text/x-python",
      "codemirror_mode": {
        "name": "ipython",
        "version": 3
      },
      "pygments_lexer": "ipython3",
      "nbconvert_exporter": "python",
      "file_extension": ".py"
    },
    "interpreter": {
      "hash": "cda595cc091c472e9dda46637922ba357e006ec97741f8a0b4e3fc352369fe49"
    }
  },
  "cells": [
    {
      "cell_type": "markdown",
      "source": [
        "<a href=\"https://colab.research.google.com/github/jonclindaniel/LargeScaleComputing_A21/blob/main/in-class-activities/01_Introduction/1W_python_compilation.ipynb\" target=\"_parent\"><img src=\"https://colab.research.google.com/assets/colab-badge.svg\" alt=\"Open In Colab\"/></a>"
      ],
      "metadata": {
        "id": "view-in-github",
        "colab_type": "text"
      }
    },
    {
      "cell_type": "markdown",
      "source": [
        "# Compiling Python with `numba` and `cython`\n",
        "\n",
        "Reproduce Python function from lecture and measure its execution time:"
      ],
      "metadata": {
        "id": "F9rXYh53ysHb"
      }
    },
    {
      "cell_type": "code",
      "execution_count": 1,
      "source": [
        "def loop(x, r):\n",
        "    for i in range(r):\n",
        "        x *= 2.5\n",
        "    return x\n",
        "\n",
        "%time loop(2, 10**6)"
      ],
      "outputs": [
        {
          "output_type": "stream",
          "name": "stdout",
          "text": [
            "CPU times: user 67.2 ms, sys: 606 µs, total: 67.8 ms\n",
            "Wall time: 65.6 ms\n"
          ]
        },
        {
          "output_type": "execute_result",
          "data": {
            "text/plain": [
              "inf"
            ]
          },
          "metadata": {},
          "execution_count": 1
        }
      ],
      "metadata": {
        "collapsed": true,
        "id": "FUFJ7Z3lsWCv"
      }
    },
    {
      "cell_type": "markdown",
      "source": [
        "## Using `numba`\n",
        "\n",
        "First, let's try compiling \"Just in Time\" using `numba`:"
      ],
      "metadata": {
        "id": "wRHr2CYb2gvC"
      }
    },
    {
      "cell_type": "code",
      "execution_count": 1,
      "source": [
        "from numba import jit\n",
        "\n",
        "# jit compiles when we call the function for the first time\n",
        "# nopython tries to run without involving Python interpreter\n",
        "@jit(nopython=True)\n",
        "def loop_jit(x, r):\n",
        "  for i in range(r):\n",
        "    x *= 2.5\n",
        "  return x\n",
        "\n",
        "%time loop_jit(2, 10**6) # includes compilation time"
      ],
      "outputs": [
        {
          "output_type": "stream",
          "name": "stdout",
          "text": [
            "CPU times: user 519 ms, sys: 1.5 s, total: 2.02 s\n",
            "Wall time: 271 ms\n"
          ]
        },
        {
          "output_type": "execute_result",
          "data": {
            "text/plain": [
              "inf"
            ]
          },
          "metadata": {},
          "execution_count": 1
        }
      ],
      "metadata": {
        "id": "iTPC0twnsGpc"
      }
    },
    {
      "cell_type": "code",
      "execution_count": 3,
      "source": [
        "%time loop_jit(2, 10**6) # much faster after compilation"
      ],
      "outputs": [
        {
          "output_type": "stream",
          "name": "stdout",
          "text": [
            "CPU times: user 931 µs, sys: 1.63 ms, total: 2.56 ms\n",
            "Wall time: 2.57 ms\n"
          ]
        },
        {
          "output_type": "execute_result",
          "data": {
            "text/plain": [
              "inf"
            ]
          },
          "metadata": {},
          "execution_count": 3
        }
      ],
      "metadata": {
        "id": "xUnhxUOnsrt8"
      }
    },
    {
      "cell_type": "code",
      "execution_count": 4,
      "source": [
        "%timeit loop(2, 10**6) # better to time across multiple runs using `timeit`"
      ],
      "outputs": [
        {
          "output_type": "stream",
          "name": "stdout",
          "text": [
            "41.8 ms ± 3.15 ms per loop (mean ± std. dev. of 7 runs, 10 loops each)\n"
          ]
        }
      ],
      "metadata": {
        "id": "eXibv5les8UY"
      }
    },
    {
      "cell_type": "code",
      "execution_count": 5,
      "source": [
        "%timeit loop_jit(2, 10**6)"
      ],
      "outputs": [
        {
          "output_type": "stream",
          "name": "stdout",
          "text": [
            "1.61 ms ± 96.8 µs per loop (mean ± std. dev. of 7 runs, 1000 loops each)\n"
          ]
        }
      ],
      "metadata": {
        "id": "uWgsB-Y1tKrR"
      }
    },
    {
      "cell_type": "markdown",
      "source": [
        "We might want to compile our code ahead of time, though, so that we can see a speed-up the first time we use it. `numba` allows us to compile ahead of time like so:\n"
      ],
      "metadata": {
        "id": "NTCtAE38vffd"
      }
    },
    {
      "cell_type": "code",
      "execution_count": 2,
      "source": [
        "from numba.pycc import CC\n",
        "\n",
        "# name of compiled module to create:\n",
        "cc = CC('test_aot')\n",
        "\n",
        "# name of function in module, with explicit data types required (4byte=32bit ints and floats)\n",
        "@cc.export('loop_aot', 'f4(f4,i4)')\n",
        "def loop_aot(x, r):\n",
        "    for i in range(r):\n",
        "        x *= 2.5\n",
        "    return x\n",
        "\n",
        "cc.compile()"
      ],
      "outputs": [],
      "metadata": {
        "id": "EZiha2zLtN3n"
      }
    },
    {
      "cell_type": "markdown",
      "source": [
        "Note that we now have a compiled object file (.so) in our current directory. This is a compiled module that contains our function."
      ],
      "metadata": {
        "id": "vAIwPxFhu_W2"
      }
    },
    {
      "cell_type": "code",
      "execution_count": 3,
      "source": [
        "ls"
      ],
      "outputs": [
        {
          "output_type": "stream",
          "name": "stdout",
          "text": [
            "1W_python_compilation.ipynb  \u001b[0m\u001b[01;32mtest_aot.cpython-39-x86_64-linux-gnu.so\u001b[0m*\n"
          ]
        }
      ],
      "metadata": {
        "id": "sPvmIS5wtWGE"
      }
    },
    {
      "cell_type": "markdown",
      "source": [
        "To use our function, we just need to import our pre-compiled module, as we would any other Python module:"
      ],
      "metadata": {
        "id": "GtNEHRzvvVb6"
      }
    },
    {
      "cell_type": "code",
      "execution_count": 4,
      "source": [
        "import test_aot\n",
        "%time test_aot.loop_aot(2, 10**6) # first time running it is fast this time"
      ],
      "outputs": [
        {
          "output_type": "stream",
          "name": "stdout",
          "text": [
            "CPU times: user 3.12 ms, sys: 0 ns, total: 3.12 ms\n",
            "Wall time: 3.13 ms\n"
          ]
        },
        {
          "output_type": "execute_result",
          "data": {
            "text/plain": [
              "inf"
            ]
          },
          "metadata": {},
          "execution_count": 4
        }
      ],
      "metadata": {
        "id": "6dPwBf_ytXbg"
      }
    },
    {
      "cell_type": "code",
      "execution_count": 5,
      "source": [
        "%timeit test_aot.loop_aot(2, 10**6) # same overall performance as before"
      ],
      "outputs": [
        {
          "output_type": "stream",
          "name": "stdout",
          "text": [
            "1.37 ms ± 202 µs per loop (mean ± std. dev. of 7 runs, 1000 loops each)\n"
          ]
        }
      ],
      "metadata": {
        "id": "sf5zuvi2tdHv"
      }
    },
    {
      "cell_type": "markdown",
      "source": [
        "## Using `cython`\n",
        "\n",
        "Another common way to compile Python code (albeit slightly uglier) is to compile our function via explicit `cython` static typing, like so (here, using the IPython `cython` extension to compile):"
      ],
      "metadata": {
        "id": "eo0Sp3F4uQpI"
      }
    },
    {
      "cell_type": "code",
      "execution_count": 10,
      "source": [
        "%load_ext cython"
      ],
      "outputs": [],
      "metadata": {
        "id": "pPYSIMqjtdnk"
      }
    },
    {
      "cell_type": "code",
      "execution_count": 11,
      "source": [
        "# will automatically convert Python -> C -> Compiled machine code\n",
        "%%cython \n",
        "\n",
        "# explicitly add static types to function itself:\n",
        "def loop_cython(float x, int r):\n",
        "    cdef int i\n",
        "    for i in range(r):\n",
        "        x *= 2.5\n",
        "    return x"
      ],
      "outputs": [
        {
          "output_type": "error",
          "ename": "SyntaxError",
          "evalue": "invalid syntax (1013425813.py, line 5)",
          "traceback": [
            "\u001b[0;36m  File \u001b[0;32m\"/tmp/ipykernel_12444/1013425813.py\"\u001b[0;36m, line \u001b[0;32m5\u001b[0m\n\u001b[0;31m    def loop_cython(float x, int r):\u001b[0m\n\u001b[0m                          ^\u001b[0m\n\u001b[0;31mSyntaxError\u001b[0m\u001b[0;31m:\u001b[0m invalid syntax\n"
          ]
        }
      ],
      "metadata": {
        "id": "sil1uDsgtzJW"
      }
    },
    {
      "cell_type": "code",
      "execution_count": null,
      "source": [
        "# for running on local machine:\n",
        "\n",
        "import cython"
      ],
      "outputs": [],
      "metadata": {}
    },
    {
      "cell_type": "code",
      "execution_count": 13,
      "source": [
        "# for running on local machine\n",
        "\n",
        "# explicitly add static types to function itself:\n",
        "def loop_cython(x: cython.float, r: cython.int):\n",
        "    i: cython.int\n",
        "    for i in range(r):\n",
        "        x *= 2.5\n",
        "    return x"
      ],
      "outputs": [],
      "metadata": {}
    },
    {
      "cell_type": "code",
      "execution_count": 14,
      "source": [
        "%timeit loop_cython(2, 10**6) # comparable performance to numba"
      ],
      "outputs": [
        {
          "output_type": "stream",
          "name": "stdout",
          "text": [
            "40.2 ms ± 5.59 ms per loop (mean ± std. dev. of 7 runs, 10 loops each)\n"
          ]
        }
      ],
      "metadata": {
        "id": "JnDHKnJqt57y"
      }
    },
    {
      "cell_type": "code",
      "execution_count": null,
      "source": [],
      "outputs": [],
      "metadata": {}
    }
  ]
}